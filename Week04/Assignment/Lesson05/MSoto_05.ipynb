{
 "cells": [
  {
   "cell_type": "code",
   "execution_count": 1,
   "metadata": {},
   "outputs": [
    {
     "name": "stdout",
     "output_type": "stream",
     "text": [
      "['lion', 'tiger', 'crocodile', 'vulture', 'hippo']\n"
     ]
    }
   ],
   "source": [
    "##For loops\n",
    "animals = ['lion', 'tiger', 'crocodile', 'vulture', 'hippo']\n",
    "print(animals)"
   ]
  },
  {
   "cell_type": "code",
   "execution_count": 4,
   "metadata": {},
   "outputs": [
    {
     "name": "stdout",
     "output_type": "stream",
     "text": [
      "lion\n",
      "tiger\n",
      "crocodile\n",
      "vulture\n",
      "hippo\n"
     ]
    }
   ],
   "source": [
    "for creature in animals:\n",
    "    print(creature)"
   ]
  },
  {
   "cell_type": "code",
   "execution_count": 10,
   "metadata": {
    "collapsed": true
   },
   "outputs": [
    {
     "ename": "IndentationError",
     "evalue": "expected an indented block (<ipython-input-10-cc075e262612>, line 2)",
     "output_type": "error",
     "traceback": [
      "\u001b[0;36m  File \u001b[0;32m\"<ipython-input-10-cc075e262612>\"\u001b[0;36m, line \u001b[0;32m2\u001b[0m\n\u001b[0;31m    \u001b[0m\n\u001b[0m    ^\u001b[0m\n\u001b[0;31mIndentationError\u001b[0m\u001b[0;31m:\u001b[0m expected an indented block\n"
     ]
    }
   ],
   "source": [
    "for creature in animals:\n",
    "    "
   ]
  },
  {
   "cell_type": "code",
   "execution_count": 7,
   "metadata": {},
   "outputs": [
    {
     "name": "stdout",
     "output_type": "stream",
     "text": [
      "The loop variable is now: hippo\n"
     ]
    }
   ],
   "source": [
    "print('The loop variable is now: ' + creature)"
   ]
  },
  {
   "cell_type": "code",
   "execution_count": null,
   "metadata": {
    "collapsed": true
   },
   "outputs": [],
   "source": [
    "## Challenge - Loops"
   ]
  },
  {
   "cell_type": "code",
   "execution_count": null,
   "metadata": {
    "collapsed": true
   },
   "outputs": [],
   "source": [
    "1. What happens if we don’t include the pass statement?\n",
    "The loop is incomplete and can't' run.\n",
    "for creature in animals:\n",
    " File \"<ipython-input-10-cc075e262612>\", line 2\n",
    "    \n",
    "    ^\n",
    "IndentationError: expected an indented block\n",
    "\n",
    "Pass acts as a placeholder"
   ]
  },
  {
   "cell_type": "code",
   "execution_count": 18,
   "metadata": {},
   "outputs": [
    {
     "name": "stdout",
     "output_type": "stream",
     "text": [
      "lion,tiger,crocodile,vulture,hippo\n"
     ]
    }
   ],
   "source": [
    "#Rewrite the loop so that the animals are separated by commas, not new lines \n",
    "#(Hint: You can concatenate strings using a plus sign. \n",
    "print(','.join((creature) for creature in animals))"
   ]
  },
  {
   "cell_type": "code",
   "execution_count": 19,
   "metadata": {
    "collapsed": true
   },
   "outputs": [],
   "source": [
    "#To split one file in multiple files\n",
    "# In this case: data for each year into a separate file:\n",
    "\n",
    "import os\n",
    "#make a new dir:\n",
    "os.mkdir('yearly_files')\n",
    "\n",
    "#The command os.listdir is equivalent to ls in the shell."
   ]
  },
  {
   "cell_type": "code",
   "execution_count": 20,
   "metadata": {
    "collapsed": true
   },
   "outputs": [],
   "source": [
    "#small script: \n",
    "import pandas as pd\n",
    "# Load the data into a DataFrame\n",
    "surveys_df = pd.read_csv('surveys.csv')\n",
    "\n",
    "# Select only data for 2002\n",
    "surveys2002 = surveys_df[surveys_df.year == 2002]\n",
    "\n",
    "# Write the new DataFrame to a csv file\n",
    "surveys2002.to_csv('yearly_files/surveys2002.csv')"
   ]
  },
  {
   "cell_type": "code",
   "execution_count": 23,
   "metadata": {},
   "outputs": [
    {
     "data": {
      "text/plain": [
       "array([1977, 1978, 1979, 1980, 1981, 1982, 1983, 1984, 1985, 1986, 1987,\n",
       "       1988, 1989, 1990, 1991, 1992, 1993, 1994, 1995, 1996, 1997, 1998,\n",
       "       1999, 2000, 2001, 2002])"
      ]
     },
     "execution_count": 23,
     "metadata": {},
     "output_type": "execute_result"
    }
   ],
   "source": [
    "#Script to \n",
    "#note: Listing the filenames to make sure that the loop is working:\n",
    "#get the years from the df:\n",
    "surveys_df['year'].unique()\n"
   ]
  },
  {
   "cell_type": "code",
   "execution_count": 24,
   "metadata": {
    "collapsed": true
   },
   "outputs": [
    {
     "name": "stdout",
     "output_type": "stream",
     "text": [
      "data/yearly_files/surveys1977.csv\n",
      "data/yearly_files/surveys1978.csv\n",
      "data/yearly_files/surveys1979.csv\n",
      "data/yearly_files/surveys1980.csv\n",
      "data/yearly_files/surveys1981.csv\n",
      "data/yearly_files/surveys1982.csv\n",
      "data/yearly_files/surveys1983.csv\n",
      "data/yearly_files/surveys1984.csv\n",
      "data/yearly_files/surveys1985.csv\n",
      "data/yearly_files/surveys1986.csv\n",
      "data/yearly_files/surveys1987.csv\n",
      "data/yearly_files/surveys1988.csv\n",
      "data/yearly_files/surveys1989.csv\n",
      "data/yearly_files/surveys1990.csv\n",
      "data/yearly_files/surveys1991.csv\n",
      "data/yearly_files/surveys1992.csv\n",
      "data/yearly_files/surveys1993.csv\n",
      "data/yearly_files/surveys1994.csv\n",
      "data/yearly_files/surveys1995.csv\n",
      "data/yearly_files/surveys1996.csv\n",
      "data/yearly_files/surveys1997.csv\n",
      "data/yearly_files/surveys1998.csv\n",
      "data/yearly_files/surveys1999.csv\n",
      "data/yearly_files/surveys2000.csv\n",
      "data/yearly_files/surveys2001.csv\n",
      "data/yearly_files/surveys2002.csv\n"
     ]
    }
   ],
   "source": [
    "#in a loop:\n",
    "for year in surveys_df['year'].unique():\n",
    "    filename='data/yearly_files/surveys' + str(year) + '.csv'\n",
    "    print(filename)"
   ]
  },
  {
   "cell_type": "code",
   "execution_count": 25,
   "metadata": {
    "collapsed": true
   },
   "outputs": [],
   "source": [
    "#Create separate files:\n",
    "# Load the data into a DataFrame\n",
    "surveys_df = pd.read_csv('surveys.csv')\n",
    "\n",
    "for year in surveys_df['year'].unique():\n",
    "\n",
    "    # Select data for the year\n",
    "    surveys_year = surveys_df[surveys_df.year == year]\n",
    "\n",
    "    # Write the new DataFrame to a csv file\n",
    "    filename = 'yearly_files/surveys' + str(year) + '.csv'\n",
    "    surveys_year.to_csv(filename)\n",
    "\n"
   ]
  },
  {
   "cell_type": "code",
   "execution_count": null,
   "metadata": {
    "collapsed": true
   },
   "outputs": [],
   "source": [
    "###Challenge - Modifying loops"
   ]
  },
  {
   "cell_type": "code",
   "execution_count": 35,
   "metadata": {
    "collapsed": true
   },
   "outputs": [],
   "source": [
    "#Functions:\n",
    "def functionTest(argument1, argument2):\n",
    "    # The body of the function is indented\n",
    "    # This function prints the two arguments to screen\n",
    "    print('The function arguments are:', argument1, argument2, '(this is done inside)')\n",
    "\n",
    "    # And returns their product\n",
    "    return argument1 * argument2\n"
   ]
  },
  {
   "cell_type": "code",
   "execution_count": 36,
   "metadata": {},
   "outputs": [
    {
     "name": "stdout",
     "output_type": "stream",
     "text": [
      "('The function arguments are:', 2, 5, '(this is done inside)')\n"
     ]
    }
   ],
   "source": [
    "#Call the function:\n",
    "product_of_inputs = functionTest(2,5)"
   ]
  },
  {
   "cell_type": "code",
   "execution_count": 31,
   "metadata": {},
   "outputs": [
    {
     "name": "stdout",
     "output_type": "stream",
     "text": [
      "('Their product is:', 10, '(this is done outside the function!)')\n"
     ]
    }
   ],
   "source": [
    "print('Their product is:', product_of_inputs, '(this is done outside!)')"
   ]
  },
  {
   "cell_type": "code",
   "execution_count": null,
   "metadata": {
    "collapsed": true
   },
   "outputs": [],
   "source": [
    "#Challenge - Functions\n"
   ]
  },
  {
   "cell_type": "code",
   "execution_count": 37,
   "metadata": {},
   "outputs": [
    {
     "name": "stdout",
     "output_type": "stream",
     "text": [
      "('The function arguments are:', 6, 9, '(this is done inside the function!)')\n",
      "('product: ', 54)\n"
     ]
    }
   ],
   "source": [
    "#1. Change the values of the arguments in the function and check its output\n",
    "product_of_inputs = this_is_the_function_name(6,9)\n",
    "print('product: ', product_of_inputs)"
   ]
  },
  {
   "cell_type": "code",
   "execution_count": 38,
   "metadata": {
    "collapsed": true
   },
   "outputs": [
    {
     "ename": "TypeError",
     "evalue": "this_is_the_function_name() takes exactly 2 arguments (1 given)",
     "output_type": "error",
     "traceback": [
      "\u001b[0;31m---------------------------------------------------------------------------\u001b[0m",
      "\u001b[0;31mTypeError\u001b[0m                                 Traceback (most recent call last)",
      "\u001b[0;32m<ipython-input-38-1c56db8bbde6>\u001b[0m in \u001b[0;36m<module>\u001b[0;34m()\u001b[0m\n\u001b[1;32m      1\u001b[0m \u001b[0;31m#2. Try calling the function by giving it the wrong number of arguments (not 2) or not\u001b[0m\u001b[0;34m\u001b[0m\u001b[0;34m\u001b[0m\u001b[0m\n\u001b[1;32m      2\u001b[0m \u001b[0;31m#assigning the function call to a variable (no product_of_inputs =)\u001b[0m\u001b[0;34m\u001b[0m\u001b[0;34m\u001b[0m\u001b[0m\n\u001b[0;32m----> 3\u001b[0;31m \u001b[0mproduct_of_inputs\u001b[0m \u001b[0;34m=\u001b[0m \u001b[0mthis_is_the_function_name\u001b[0m\u001b[0;34m(\u001b[0m\u001b[0;36m6\u001b[0m\u001b[0;34m)\u001b[0m\u001b[0;34m\u001b[0m\u001b[0m\n\u001b[0m\u001b[1;32m      4\u001b[0m \u001b[0;32mprint\u001b[0m\u001b[0;34m(\u001b[0m\u001b[0;34m'product: '\u001b[0m\u001b[0;34m,\u001b[0m \u001b[0mproduct_of_inputs\u001b[0m\u001b[0;34m)\u001b[0m\u001b[0;34m\u001b[0m\u001b[0m\n",
      "\u001b[0;31mTypeError\u001b[0m: this_is_the_function_name() takes exactly 2 arguments (1 given)"
     ]
    }
   ],
   "source": [
    "#2. Try calling the function by giving it the wrong number of arguments (not 2) or not\n",
    "#assigning the function call to a variable (no product_of_inputs =)\n",
    "product_of_inputs = this_is_the_function_name(6)\n",
    "print('product: ', product_of_inputs)\n",
    "\n",
    "I got this error because the funcionTest needs to arguments as input:\n",
    "    ---------------------------------------------------------------------------\n",
    "TypeError                                 Traceback (most recent call last)\n",
    "<ipython-input-38-1c56db8bbde6> in <module>()\n",
    "      1 #2. Try calling the function by giving it the wrong number of arguments (not 2) or not\n",
    "      2 #assigning the function call to a variable (no product_of_inputs =)\n",
    "----> 3 product_of_inputs = this_is_the_function_name(6)\n",
    "      4 print('product: ', product_of_inputs)\n",
    "\n",
    "TypeError: this_is_the_function_name() takes exactly 2 arguments (1 given)\n",
    "\n"
   ]
  },
  {
   "cell_type": "code",
   "execution_count": 2,
   "metadata": {
    "collapsed": true
   },
   "outputs": [],
   "source": [
    "##3. Declare a variable inside the function and test to see where it exists\n",
    "#Hint: (can you print it from outside the function?)\n",
    "#Functions:\n",
    "def functionTest2(argument1, argument2):\n",
    "    # The body of the function is indented\n",
    "    # This function prints the two arguments to screen\n",
    "    print('The function arguments are:', argument1, argument2, '(this is done inside)')\n",
    "    result=argument1+argument2\n",
    "    print('result: ', result, '(this is inside)')\n",
    "    # And returns their product\n",
    "    return argument1 * argument2\n",
    "    "
   ]
  },
  {
   "cell_type": "code",
   "execution_count": 45,
   "metadata": {},
   "outputs": [
    {
     "name": "stdout",
     "output_type": "stream",
     "text": [
      "('The function arguments are:', 6, 2, '(this is done inside)')\n",
      "('result: ', 8, '(this is inside)')\n",
      "('product: ', 12)\n"
     ]
    },
    {
     "ename": "NameError",
     "evalue": "name 'result' is not defined",
     "output_type": "error",
     "traceback": [
      "\u001b[0;31m---------------------------------------------------------------------------\u001b[0m",
      "\u001b[0;31mNameError\u001b[0m                                 Traceback (most recent call last)",
      "\u001b[0;32m<ipython-input-45-5910b858e789>\u001b[0m in \u001b[0;36m<module>\u001b[0;34m()\u001b[0m\n\u001b[1;32m      1\u001b[0m \u001b[0mproduct_of_inputs\u001b[0m \u001b[0;34m=\u001b[0m \u001b[0mfunctionTest2\u001b[0m\u001b[0;34m(\u001b[0m\u001b[0;36m6\u001b[0m\u001b[0;34m,\u001b[0m\u001b[0;36m2\u001b[0m\u001b[0;34m)\u001b[0m\u001b[0;34m\u001b[0m\u001b[0m\n\u001b[1;32m      2\u001b[0m \u001b[0;32mprint\u001b[0m\u001b[0;34m(\u001b[0m\u001b[0;34m'product: '\u001b[0m\u001b[0;34m,\u001b[0m \u001b[0mproduct_of_inputs\u001b[0m\u001b[0;34m)\u001b[0m\u001b[0;34m\u001b[0m\u001b[0m\n\u001b[0;32m----> 3\u001b[0;31m \u001b[0;32mprint\u001b[0m \u001b[0mresult\u001b[0m\u001b[0;34m\u001b[0m\u001b[0m\n\u001b[0m",
      "\u001b[0;31mNameError\u001b[0m: name 'result' is not defined"
     ]
    }
   ],
   "source": [
    "product_of_inputs = functionTest2(6,2)\n",
    "print('product: ', product_of_inputs)\n",
    "print result\n",
    "\n",
    "The variable that I created is called \"result\" and it is inside the function\n",
    "When I tried to print it outside, I got this error, because I declared this variable inside the function:\n",
    "---------------------------------------------------------------------------\n",
    "NameError                                 Traceback (most recent call last)\n",
    "<ipython-input-45-5910b858e789> in <module>()\n",
    "      1 product_of_inputs = functionTest2(6,2)\n",
    "      2 print('product: ', product_of_inputs)\n",
    "----> 3 print result\n",
    "\n",
    "NameError: name 'result' is not defined"
   ]
  },
  {
   "cell_type": "code",
   "execution_count": 13,
   "metadata": {},
   "outputs": [
    {
     "name": "stdout",
     "output_type": "stream",
     "text": [
      "('The function arguments are:', 6, 2, '(this is done inside)')\n",
      "('result: ', 8, '(this is inside)')\n",
      "('new result: ', 10)\n"
     ]
    }
   ],
   "source": [
    "##4. Explore what happens when a variable both inside and outside the function have the \n",
    "#same name. What happens to the global variable when you change the value of the local variable?\n",
    "result=10\n",
    "product_of_inputs = functionTest2(6,2)\n",
    "print(\"new result: \", result)\n",
    "\n",
    "#in this case, both variables are printed since we defined the \"result\" variable before calling the function.\n",
    "#As there is no local \"result\", the value from the global \"result\" will be used."
   ]
  },
  {
   "cell_type": "code",
   "execution_count": 50,
   "metadata": {
    "collapsed": true
   },
   "outputs": [],
   "source": [
    "# This function separates data for just one year and saves that data to a file:\n",
    "def one_year_csv_writer(this_year, all_data):\n",
    "    \"\"\"\n",
    "    Writes a csv file for data from a given year.\n",
    "\n",
    "    this_year --- year for which data is extracted\n",
    "    all_data --- DataFrame with multi-year data\n",
    "    \"\"\"\n",
    "\n",
    "    # Select data for the year\n",
    "    surveys_year = all_data[all_data.year == this_year]\n",
    "\n",
    "    # Write the new DataFrame to a csv file\n",
    "    filename = 'yearly_files/function_surveys' + str(this_year) + '.csv'\n",
    "    surveys_year.to_csv(filename)\n"
   ]
  },
  {
   "cell_type": "code",
   "execution_count": 48,
   "metadata": {
    "collapsed": true
   },
   "outputs": [],
   "source": [
    "one_year_csv_writer?\n",
    "#it prints the Docstrings of the functions"
   ]
  },
  {
   "cell_type": "code",
   "execution_count": 52,
   "metadata": {
    "collapsed": true
   },
   "outputs": [],
   "source": [
    "#writes a new file for 2002 year\n",
    "one_year_csv_writer(2002,surveys_df)"
   ]
  },
  {
   "cell_type": "code",
   "execution_count": 53,
   "metadata": {
    "collapsed": true
   },
   "outputs": [],
   "source": [
    "#This function loops through a sequence of years and repeatedly calls the function: one_year_csv_writer\n",
    "def yearly_data_csv_writer(start_year, end_year, all_data):\n",
    "    \"\"\"\n",
    "    Writes separate csv files for each year of data.\n",
    "\n",
    "    start_year --- the first year of data we want\n",
    "    end_year --- the last year of data we want\n",
    "    all_data --- DataFrame with multi-year data\n",
    "    \"\"\"\n",
    "\n",
    "    # \"end_year\" is the last year of data we want to pull, so we loop to end_year+1\n",
    "    for year in range(start_year, end_year+1):\n",
    "        one_year_csv_writer(year, all_data)\n"
   ]
  },
  {
   "cell_type": "code",
   "execution_count": 54,
   "metadata": {
    "collapsed": true
   },
   "outputs": [],
   "source": [
    "# Create csv files for a range of years:\n",
    "yearly_data_csv_writer(1977, 2002, surveys_df)"
   ]
  },
  {
   "cell_type": "code",
   "execution_count": 59,
   "metadata": {
    "collapsed": true
   },
   "outputs": [],
   "source": [
    "#Arguments can be given default values with an equal sign in the function declaration. \n",
    "# Any arguments in the function without default values (here, all_data) is a required argument \n",
    " #   and MUST come before the argument with default values (which are optional in the function call).\n",
    "    \n",
    "    \n",
    "def yearly_data_arg_test(all_data, start_year = 1977, end_year = 2002):\n",
    "        \"\"\"\n",
    "        Modified from yearly_data_csv_writer to test default argument values!\n",
    "\n",
    "        start_year --- the first year of data we want --- default: 1977\n",
    "        end_year --- the last year of data we want --- default: 2002\n",
    "        all_data --- DataFrame with multi-year data\n",
    "        \"\"\"\n",
    "        return start_year, end_year"
   ]
  },
  {
   "cell_type": "code",
   "execution_count": 62,
   "metadata": {},
   "outputs": [
    {
     "name": "stdout",
     "output_type": "stream",
     "text": [
      "('Both optional arguments:\\t', 1988, 1993)\n",
      "('Default values:\\t\\t\\t', 1977, 2002)\n"
     ]
    }
   ],
   "source": [
    "start,end = yearly_data_arg_test (surveys_df, 1988, 1993)\n",
    "print('Both optional arguments:\\t', start, end)\n",
    "\n",
    "start,end = yearly_data_arg_test (surveys_df)\n",
    "print('Default values:''\\t\\t\\t', start, end)"
   ]
  },
  {
   "cell_type": "code",
   "execution_count": 64,
   "metadata": {
    "collapsed": true
   },
   "outputs": [],
   "source": [
    "#In this case the function itself looks for the start and end years in the dataset if those dates are not provided:\n",
    "#None: it is a build-it constant in Python that indicates the absence of a value\n",
    "\n",
    "def yearly_data_arg_test(all_data, start_year = None, end_year = None):\n",
    "        \"\"\"\n",
    "        Modified from yearly_data_csv_writer to test default argument values!\n",
    "\n",
    "        start_year --- the first year of data we want --- default: None - check all_data\n",
    "        end_year --- the last year of data we want --- default: None - check all_data\n",
    "        all_data --- DataFrame with multi-year data\n",
    "        \"\"\"\n",
    "\n",
    "        if not start_year:\n",
    "            start_year = min(all_data.year)\n",
    "        if not end_year:\n",
    "            end_year = max(all_data.year)\n",
    "        return start_year, end_year"
   ]
  },
  {
   "cell_type": "code",
   "execution_count": 65,
   "metadata": {
    "collapsed": true
   },
   "outputs": [
    {
     "name": "stdout",
     "output_type": "stream",
     "text": [
      "('Both optional arguments:\\t', 1988, 1993)\n",
      "('Default values:\\t\\t\\t', 1977, 2002)\n"
     ]
    }
   ],
   "source": [
    "start,end = yearly_data_arg_test (surveys_df, 1988, 1993)\n",
    "print('Both optional arguments:\\t', start, end)\n",
    "\n",
    "start,end = yearly_data_arg_test (surveys_df)\n",
    "print('Default values:\\t\\t\\t', start, end)"
   ]
  },
  {
   "cell_type": "code",
   "execution_count": 66,
   "metadata": {},
   "outputs": [
    {
     "name": "stdout",
     "output_type": "stream",
     "text": [
      "a is a positive number\n"
     ]
    }
   ],
   "source": [
    "##If Loops:\n",
    "#If loops execute the body of the loop when some condition is met:\n",
    "a = 5\n",
    "if a<0: # meets first condition?\n",
    "# if a IS less than zero\n",
    "    print('a is a negative number')\n",
    "\n",
    "elif a>0: # did not meet first condition. meets second condition?\n",
    "\n",
    "    # if a ISN'T less than zero and IS more than zero\n",
    "    print('a is a positive number')\n",
    "\n",
    "else: # met neither condition\n",
    "\n",
    "    # if a ISN'T less than zero and ISN'T more than zero\n",
    "    print('a must be zero!')"
   ]
  },
  {
   "cell_type": "code",
   "execution_count": 67,
   "metadata": {
    "collapsed": true
   },
   "outputs": [],
   "source": [
    "#Using keywords:\n",
    "\n",
    "def yearly_data_arg_test(all_data, start_year = None, end_year = None):\n",
    "        \"\"\"\n",
    "        Modified from yearly_data_csv_writer to test default argument values!\n",
    "\n",
    "        start_year --- the first year of data we want --- default: None - check all_data\n",
    "        end_year --- the last year of data we want --- default: None - check all_data\n",
    "        all_data --- DataFrame with multi-year data\n",
    "        \"\"\"\n",
    "\n",
    "        if not start_year:\n",
    "            start_year = min(all_data.year)\n",
    "        if not end_year:\n",
    "            end_year = max(all_data.year)\n",
    "\n",
    "        return start_year, end_year\n"
   ]
  },
  {
   "cell_type": "code",
   "execution_count": 69,
   "metadata": {},
   "outputs": [
    {
     "name": "stdout",
     "output_type": "stream",
     "text": [
      "('Default values:\\t\\t\\t', 1977, 2002)\n",
      "('No keywords:\\t\\t\\t', 1988, 1993)\n",
      "('Both keywords, in order:\\t', 1988, 1993)\n",
      "('Both keywords, flipped:\\t\\t', 1988, 1993)\n",
      "('One keyword, default end:\\t', 1988, 2002)\n",
      "('One keyword, default start: \\t', 1977, 1993)\n"
     ]
    }
   ],
   "source": [
    "start,end = yearly_data_arg_test (surveys_df)\n",
    "print('Default values:\\t\\t\\t', start, end)\n",
    "\n",
    "start,end = yearly_data_arg_test (surveys_df, 1988, 1993)\n",
    "print('No keywords:\\t\\t\\t', start, end)\n",
    "\n",
    "start,end = yearly_data_arg_test (surveys_df, start_year = 1988, end_year = 1993)\n",
    "print('Both keywords, in order:\\t', start, end)\n",
    "\n",
    "start,end = yearly_data_arg_test (surveys_df, end_year = 1993, start_year = 1988)\n",
    "print('Both keywords, flipped:\\t\\t', start, end)\n",
    "\n",
    "start,end = yearly_data_arg_test (surveys_df, start_year = 1988)\n",
    "print('One keyword, default end:\\t', start, end)\n",
    "\n",
    "start,end = yearly_data_arg_test (surveys_df, end_year = 1993)\n",
    "print('One keyword, default start: \\t', start, end)\n"
   ]
  },
  {
   "cell_type": "code",
   "execution_count": null,
   "metadata": {
    "collapsed": true
   },
   "outputs": [],
   "source": []
  }
 ],
 "metadata": {
  "kernelspec": {
   "display_name": "Python 2",
   "language": "python",
   "name": "python2"
  },
  "language_info": {
   "codemirror_mode": {
    "name": "ipython",
    "version": 2
   },
   "file_extension": ".py",
   "mimetype": "text/x-python",
   "name": "python",
   "nbconvert_exporter": "python",
   "pygments_lexer": "ipython2",
   "version": "2.7.13"
  }
 },
 "nbformat": 4,
 "nbformat_minor": 2
}
